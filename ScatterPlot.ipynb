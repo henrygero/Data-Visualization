{
 "cells": [
  {
   "cell_type": "code",
   "execution_count": 2,
   "metadata": {},
   "outputs": [],
   "source": [
    "import numpy as np\n",
    "import pandas as pd\n",
    "import matplotlib.pyplot as plt\n",
    "%matplotlib inline"
   ]
  },
  {
   "cell_type": "code",
   "execution_count": 3,
   "metadata": {},
   "outputs": [],
   "source": [
    "np.random.seed(0)\n",
    "mu = 170 #mean\n",
    "sigma = 6 #Standard deviation\n",
    "sample = 100\n",
    "np.random.seed(0)\n",
    "height = np.random.normal(mu, sigma, sample)\n",
    "\n",
    "weight = (height - 100) * np.random.uniform(0.75,1.25,100)\n"
   ]
  },
  {
   "cell_type": "code",
   "execution_count": 5,
   "metadata": {},
   "outputs": [
    {
     "data": {
      "text/plain": [
       "array([77.51626973, 76.25242778, 57.63243821, 75.16652885, 87.70882186,\n",
       "       57.40450651, 80.1674458 , 66.6311054 , 56.73515698, 65.1549975 ,\n",
       "       73.34326729, 82.30264923, 77.33730302, 76.14800093, 78.18933299,\n",
       "       69.53303948, 94.6210212 , 64.2152282 , 69.57344273, 77.58852279,\n",
       "       63.05372031, 81.45760811, 60.1578232 , 79.29492539, 92.57579877,\n",
       "       76.55693329, 57.95711959, 81.55458715, 65.83195656, 83.37013275,\n",
       "       57.58851958, 84.84407415, 74.61094889, 60.12312355, 64.76081868,\n",
       "       55.65685777, 85.02043548, 75.42069496, 75.18996081, 80.67728975,\n",
       "       78.85610643, 72.41726798, 45.17181491, 75.98443059, 74.64011102,\n",
       "       56.31014469, 63.14044537, 58.02727798, 51.26901617, 52.17911055,\n",
       "       74.11763083, 62.33833639, 61.75946347, 76.38283251, 76.96812814,\n",
       "       55.58276884, 58.59648797, 76.17680685, 68.75010464, 58.93503294,\n",
       "       80.28675202, 71.70855903, 66.28134637, 62.32352347, 79.24131688,\n",
       "       61.23405997, 57.15430666, 62.21838725, 54.42711474, 85.93395532,\n",
       "       83.28278387, 70.43626381, 66.36416421, 54.90350282, 56.41160064,\n",
       "       63.73045782, 58.6797358 , 73.05796403, 63.96625935, 59.06913526,\n",
       "       48.03431796, 59.08919704, 79.32333114, 59.37532623, 80.37310283,\n",
       "       97.51496475, 95.96854519, 59.16465723, 68.75937214, 67.29429816,\n",
       "       51.3835107 , 87.32548444, 64.83779238, 71.43962938, 75.32371711,\n",
       "       86.52786481, 74.58142759, 95.75451333, 62.74922301, 83.20301034])"
      ]
     },
     "execution_count": 5,
     "metadata": {},
     "output_type": "execute_result"
    }
   ],
   "source": [
    "height\n",
    "weight"
   ]
  },
  {
   "cell_type": "code",
   "execution_count": 6,
   "metadata": {},
   "outputs": [],
   "source": [
    "gym = pd.DataFrame({'height': height, 'weight': weight})"
   ]
  },
  {
   "cell_type": "code",
   "execution_count": 7,
   "metadata": {},
   "outputs": [
    {
     "data": {
      "text/html": [
       "<div>\n",
       "<style scoped>\n",
       "    .dataframe tbody tr th:only-of-type {\n",
       "        vertical-align: middle;\n",
       "    }\n",
       "\n",
       "    .dataframe tbody tr th {\n",
       "        vertical-align: top;\n",
       "    }\n",
       "\n",
       "    .dataframe thead th {\n",
       "        text-align: right;\n",
       "    }\n",
       "</style>\n",
       "<table border=\"1\" class=\"dataframe\">\n",
       "  <thead>\n",
       "    <tr style=\"text-align: right;\">\n",
       "      <th></th>\n",
       "      <th>height</th>\n",
       "      <th>weight</th>\n",
       "    </tr>\n",
       "  </thead>\n",
       "  <tbody>\n",
       "    <tr>\n",
       "      <th>0</th>\n",
       "      <td>180.584314</td>\n",
       "      <td>77.516270</td>\n",
       "    </tr>\n",
       "    <tr>\n",
       "      <th>1</th>\n",
       "      <td>172.400943</td>\n",
       "      <td>76.252428</td>\n",
       "    </tr>\n",
       "    <tr>\n",
       "      <th>2</th>\n",
       "      <td>175.872428</td>\n",
       "      <td>57.632438</td>\n",
       "    </tr>\n",
       "    <tr>\n",
       "      <th>3</th>\n",
       "      <td>183.445359</td>\n",
       "      <td>75.166529</td>\n",
       "    </tr>\n",
       "    <tr>\n",
       "      <th>4</th>\n",
       "      <td>181.205348</td>\n",
       "      <td>87.708822</td>\n",
       "    </tr>\n",
       "    <tr>\n",
       "      <th>...</th>\n",
       "      <td>...</td>\n",
       "      <td>...</td>\n",
       "    </tr>\n",
       "    <tr>\n",
       "      <th>95</th>\n",
       "      <td>174.239439</td>\n",
       "      <td>86.527865</td>\n",
       "    </tr>\n",
       "    <tr>\n",
       "      <th>96</th>\n",
       "      <td>170.063000</td>\n",
       "      <td>74.581428</td>\n",
       "    </tr>\n",
       "    <tr>\n",
       "      <th>97</th>\n",
       "      <td>180.715223</td>\n",
       "      <td>95.754513</td>\n",
       "    </tr>\n",
       "    <tr>\n",
       "      <th>98</th>\n",
       "      <td>170.761473</td>\n",
       "      <td>62.749223</td>\n",
       "    </tr>\n",
       "    <tr>\n",
       "      <th>99</th>\n",
       "      <td>172.411936</td>\n",
       "      <td>83.203010</td>\n",
       "    </tr>\n",
       "  </tbody>\n",
       "</table>\n",
       "<p>100 rows × 2 columns</p>\n",
       "</div>"
      ],
      "text/plain": [
       "        height     weight\n",
       "0   180.584314  77.516270\n",
       "1   172.400943  76.252428\n",
       "2   175.872428  57.632438\n",
       "3   183.445359  75.166529\n",
       "4   181.205348  87.708822\n",
       "..         ...        ...\n",
       "95  174.239439  86.527865\n",
       "96  170.063000  74.581428\n",
       "97  180.715223  95.754513\n",
       "98  170.761473  62.749223\n",
       "99  172.411936  83.203010\n",
       "\n",
       "[100 rows x 2 columns]"
      ]
     },
     "execution_count": 7,
     "metadata": {},
     "output_type": "execute_result"
    }
   ],
   "source": [
    "gym"
   ]
  },
  {
   "cell_type": "code",
   "execution_count": 8,
   "metadata": {},
   "outputs": [
    {
     "data": {
      "text/plain": [
       "<AxesSubplot:xlabel='weight', ylabel='height'>"
      ]
     },
     "execution_count": 8,
     "metadata": {},
     "output_type": "execute_result"
    },
    {
     "data": {
      "image/png": "[encoded data removed]",
      "text/plain": [
       "<Figure size 432x288 with 1 Axes>"
      ]
     },
     "metadata": {
      "needs_background": "light"
     },
     "output_type": "display_data"
    }
   ],
   "source": [
    "gym.plot.scatter(x = 'weight', y = 'height')"
   ]
  },
  {
   "cell_type": "code",
   "execution_count": 9,
   "metadata": {},
   "outputs": [
    {
     "data": {
      "text/plain": [
       "<matplotlib.collections.PathCollection at 0x19e527ea280>"
      ]
     },
     "execution_count": 9,
     "metadata": {},
     "output_type": "execute_result"
    },
    {
     "data": {
      "image/png": "[encoded data removed]",
      "text/plain": [
       "<Figure size 432x288 with 1 Axes>"
      ]
     },
     "metadata": {
      "needs_background": "light"
     },
     "output_type": "display_data"
    }
   ],
   "source": [
    "x = gym.weight\n",
    "y = gym.height\n",
    "plt.scatter(x,y)"
   ]
  },
  {
   "cell_type": "code",
   "execution_count": null,
   "metadata": {},
   "outputs": [],
   "source": []
  }
 ],
 "metadata": {
  "kernelspec": {
   "display_name": "Python 3",
   "language": "python",
   "name": "python3"
  },
  "language_info": {
   "codemirror_mode": {
    "name": "ipython",
    "version": 3
   },
   "file_extension": ".py",
   "mimetype": "text/x-python",
   "name": "python",
   "nbconvert_exporter": "python",
   "pygments_lexer": "ipython3",
   "version": "3.8.5"
  }
 },
 "nbformat": 4,
 "nbformat_minor": 4
}
